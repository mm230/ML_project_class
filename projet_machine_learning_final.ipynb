{
 "cells": [
  {
   "cell_type": "markdown",
   "metadata": {},
   "source": [
    "## Projet Machine Learning\n",
    "Présenté par:  \n",
    "   1. Serigne Mor Talla Gueye  \n",
    "   2. Mouhamadou Mansour Sow  \n",
    "   3. Cheikh Attab Coly  \n",
    "    sous la supervision de Dr. Anis Haddouche  ANISAHDD@GMAIL.COM"
   ]
  },
  {
   "cell_type": "markdown",
   "metadata": {},
   "source": [
    "# Rendu: Notebook et Fichier Dataset"
   ]
  },
  {
   "cell_type": "markdown",
   "metadata": {},
   "source": [
    "## Chargement des données modifiéees de Boston Housing fourni par le Prof"
   ]
  },
  {
   "cell_type": "code",
   "execution_count": 1,
   "metadata": {},
   "outputs": [
    {
     "data": {
      "text/html": [
       "<div>\n",
       "<style scoped>\n",
       "    .dataframe tbody tr th:only-of-type {\n",
       "        vertical-align: middle;\n",
       "    }\n",
       "\n",
       "    .dataframe tbody tr th {\n",
       "        vertical-align: top;\n",
       "    }\n",
       "\n",
       "    .dataframe thead th {\n",
       "        text-align: right;\n",
       "    }\n",
       "</style>\n",
       "<table border=\"1\" class=\"dataframe\">\n",
       "  <thead>\n",
       "    <tr style=\"text-align: right;\">\n",
       "      <th></th>\n",
       "      <th>R1</th>\n",
       "      <th>R2</th>\n",
       "      <th>R3</th>\n",
       "      <th>R4</th>\n",
       "      <th>R5</th>\n",
       "      <th>X1</th>\n",
       "      <th>X2</th>\n",
       "      <th>X3</th>\n",
       "      <th>X4</th>\n",
       "      <th>X5</th>\n",
       "      <th>X6</th>\n",
       "      <th>X7</th>\n",
       "      <th>X8</th>\n",
       "      <th>X9</th>\n",
       "      <th>X10</th>\n",
       "      <th>X11</th>\n",
       "      <th>X12</th>\n",
       "      <th>X13</th>\n",
       "      <th>Y</th>\n",
       "    </tr>\n",
       "    <tr>\n",
       "      <th>index</th>\n",
       "      <th></th>\n",
       "      <th></th>\n",
       "      <th></th>\n",
       "      <th></th>\n",
       "      <th></th>\n",
       "      <th></th>\n",
       "      <th></th>\n",
       "      <th></th>\n",
       "      <th></th>\n",
       "      <th></th>\n",
       "      <th></th>\n",
       "      <th></th>\n",
       "      <th></th>\n",
       "      <th></th>\n",
       "      <th></th>\n",
       "      <th></th>\n",
       "      <th></th>\n",
       "      <th></th>\n",
       "      <th></th>\n",
       "    </tr>\n",
       "  </thead>\n",
       "  <tbody>\n",
       "    <tr>\n",
       "      <th>0</th>\n",
       "      <td>-0.21</td>\n",
       "      <td>0.11</td>\n",
       "      <td>-0.65</td>\n",
       "      <td>-0.54</td>\n",
       "      <td>1.48</td>\n",
       "      <td>0.00632</td>\n",
       "      <td>18.0</td>\n",
       "      <td>2.31</td>\n",
       "      <td>0</td>\n",
       "      <td>0.538</td>\n",
       "      <td>6.575</td>\n",
       "      <td>65.2</td>\n",
       "      <td>4.0900</td>\n",
       "      <td>1</td>\n",
       "      <td>296</td>\n",
       "      <td>15.3</td>\n",
       "      <td>396.90</td>\n",
       "      <td>4.98</td>\n",
       "      <td>24.0</td>\n",
       "    </tr>\n",
       "    <tr>\n",
       "      <th>1</th>\n",
       "      <td>0.08</td>\n",
       "      <td>-0.61</td>\n",
       "      <td>-0.85</td>\n",
       "      <td>-0.36</td>\n",
       "      <td>-0.12</td>\n",
       "      <td>0.02731</td>\n",
       "      <td>0.0</td>\n",
       "      <td>7.07</td>\n",
       "      <td>0</td>\n",
       "      <td>0.469</td>\n",
       "      <td>6.421</td>\n",
       "      <td>78.9</td>\n",
       "      <td>4.9671</td>\n",
       "      <td>2</td>\n",
       "      <td>242</td>\n",
       "      <td>17.8</td>\n",
       "      <td>396.90</td>\n",
       "      <td>9.14</td>\n",
       "      <td>21.6</td>\n",
       "    </tr>\n",
       "    <tr>\n",
       "      <th>2</th>\n",
       "      <td>-1.32</td>\n",
       "      <td>0.95</td>\n",
       "      <td>-0.75</td>\n",
       "      <td>-0.99</td>\n",
       "      <td>-0.36</td>\n",
       "      <td>0.02729</td>\n",
       "      <td>0.0</td>\n",
       "      <td>7.07</td>\n",
       "      <td>0</td>\n",
       "      <td>0.469</td>\n",
       "      <td>7.185</td>\n",
       "      <td>61.1</td>\n",
       "      <td>4.9671</td>\n",
       "      <td>2</td>\n",
       "      <td>242</td>\n",
       "      <td>17.8</td>\n",
       "      <td>392.83</td>\n",
       "      <td>4.03</td>\n",
       "      <td>34.7</td>\n",
       "    </tr>\n",
       "    <tr>\n",
       "      <th>3</th>\n",
       "      <td>0.23</td>\n",
       "      <td>-0.10</td>\n",
       "      <td>-0.43</td>\n",
       "      <td>1.58</td>\n",
       "      <td>0.00</td>\n",
       "      <td>0.03237</td>\n",
       "      <td>0.0</td>\n",
       "      <td>2.18</td>\n",
       "      <td>0</td>\n",
       "      <td>0.458</td>\n",
       "      <td>6.998</td>\n",
       "      <td>45.8</td>\n",
       "      <td>6.0622</td>\n",
       "      <td>3</td>\n",
       "      <td>222</td>\n",
       "      <td>18.7</td>\n",
       "      <td>394.63</td>\n",
       "      <td>2.94</td>\n",
       "      <td>33.4</td>\n",
       "    </tr>\n",
       "    <tr>\n",
       "      <th>4</th>\n",
       "      <td>-1.67</td>\n",
       "      <td>1.49</td>\n",
       "      <td>0.41</td>\n",
       "      <td>0.63</td>\n",
       "      <td>-0.87</td>\n",
       "      <td>0.06905</td>\n",
       "      <td>0.0</td>\n",
       "      <td>2.18</td>\n",
       "      <td>0</td>\n",
       "      <td>0.458</td>\n",
       "      <td>7.147</td>\n",
       "      <td>54.2</td>\n",
       "      <td>6.0622</td>\n",
       "      <td>3</td>\n",
       "      <td>222</td>\n",
       "      <td>18.7</td>\n",
       "      <td>396.90</td>\n",
       "      <td>5.33</td>\n",
       "      <td>36.2</td>\n",
       "    </tr>\n",
       "    <tr>\n",
       "      <th>5</th>\n",
       "      <td>-0.13</td>\n",
       "      <td>-0.43</td>\n",
       "      <td>-0.22</td>\n",
       "      <td>0.30</td>\n",
       "      <td>0.55</td>\n",
       "      <td>0.02985</td>\n",
       "      <td>0.0</td>\n",
       "      <td>2.18</td>\n",
       "      <td>0</td>\n",
       "      <td>0.458</td>\n",
       "      <td>6.430</td>\n",
       "      <td>58.7</td>\n",
       "      <td>6.0622</td>\n",
       "      <td>3</td>\n",
       "      <td>222</td>\n",
       "      <td>18.7</td>\n",
       "      <td>394.12</td>\n",
       "      <td>5.21</td>\n",
       "      <td>28.7</td>\n",
       "    </tr>\n",
       "    <tr>\n",
       "      <th>6</th>\n",
       "      <td>1.83</td>\n",
       "      <td>1.69</td>\n",
       "      <td>-2.16</td>\n",
       "      <td>-0.31</td>\n",
       "      <td>0.88</td>\n",
       "      <td>0.08829</td>\n",
       "      <td>12.5</td>\n",
       "      <td>7.87</td>\n",
       "      <td>0</td>\n",
       "      <td>0.524</td>\n",
       "      <td>6.012</td>\n",
       "      <td>66.6</td>\n",
       "      <td>5.5605</td>\n",
       "      <td>5</td>\n",
       "      <td>311</td>\n",
       "      <td>15.2</td>\n",
       "      <td>395.60</td>\n",
       "      <td>12.43</td>\n",
       "      <td>22.9</td>\n",
       "    </tr>\n",
       "    <tr>\n",
       "      <th>7</th>\n",
       "      <td>0.29</td>\n",
       "      <td>-0.61</td>\n",
       "      <td>-0.67</td>\n",
       "      <td>-0.53</td>\n",
       "      <td>0.24</td>\n",
       "      <td>0.14455</td>\n",
       "      <td>12.5</td>\n",
       "      <td>7.87</td>\n",
       "      <td>0</td>\n",
       "      <td>0.524</td>\n",
       "      <td>6.172</td>\n",
       "      <td>96.1</td>\n",
       "      <td>5.9505</td>\n",
       "      <td>5</td>\n",
       "      <td>311</td>\n",
       "      <td>15.2</td>\n",
       "      <td>396.90</td>\n",
       "      <td>19.15</td>\n",
       "      <td>27.1</td>\n",
       "    </tr>\n",
       "    <tr>\n",
       "      <th>8</th>\n",
       "      <td>-0.57</td>\n",
       "      <td>0.48</td>\n",
       "      <td>1.19</td>\n",
       "      <td>-0.79</td>\n",
       "      <td>-0.89</td>\n",
       "      <td>0.21124</td>\n",
       "      <td>12.5</td>\n",
       "      <td>7.87</td>\n",
       "      <td>0</td>\n",
       "      <td>0.524</td>\n",
       "      <td>5.631</td>\n",
       "      <td>100.0</td>\n",
       "      <td>6.0821</td>\n",
       "      <td>5</td>\n",
       "      <td>311</td>\n",
       "      <td>15.2</td>\n",
       "      <td>386.63</td>\n",
       "      <td>29.93</td>\n",
       "      <td>16.5</td>\n",
       "    </tr>\n",
       "    <tr>\n",
       "      <th>9</th>\n",
       "      <td>-0.29</td>\n",
       "      <td>-1.18</td>\n",
       "      <td>0.15</td>\n",
       "      <td>-0.77</td>\n",
       "      <td>-0.47</td>\n",
       "      <td>0.17004</td>\n",
       "      <td>12.5</td>\n",
       "      <td>7.87</td>\n",
       "      <td>0</td>\n",
       "      <td>0.524</td>\n",
       "      <td>6.004</td>\n",
       "      <td>85.9</td>\n",
       "      <td>6.5921</td>\n",
       "      <td>5</td>\n",
       "      <td>311</td>\n",
       "      <td>15.2</td>\n",
       "      <td>386.71</td>\n",
       "      <td>17.10</td>\n",
       "      <td>18.9</td>\n",
       "    </tr>\n",
       "    <tr>\n",
       "      <th>10</th>\n",
       "      <td>-0.46</td>\n",
       "      <td>-0.18</td>\n",
       "      <td>-1.08</td>\n",
       "      <td>-0.70</td>\n",
       "      <td>0.29</td>\n",
       "      <td>0.22489</td>\n",
       "      <td>12.5</td>\n",
       "      <td>7.87</td>\n",
       "      <td>0</td>\n",
       "      <td>0.524</td>\n",
       "      <td>6.377</td>\n",
       "      <td>94.3</td>\n",
       "      <td>6.3467</td>\n",
       "      <td>5</td>\n",
       "      <td>311</td>\n",
       "      <td>15.2</td>\n",
       "      <td>392.52</td>\n",
       "      <td>20.45</td>\n",
       "      <td>15.0</td>\n",
       "    </tr>\n",
       "    <tr>\n",
       "      <th>11</th>\n",
       "      <td>-0.57</td>\n",
       "      <td>-1.01</td>\n",
       "      <td>-0.16</td>\n",
       "      <td>-0.07</td>\n",
       "      <td>-0.28</td>\n",
       "      <td>0.11747</td>\n",
       "      <td>12.5</td>\n",
       "      <td>7.87</td>\n",
       "      <td>0</td>\n",
       "      <td>0.524</td>\n",
       "      <td>6.009</td>\n",
       "      <td>82.9</td>\n",
       "      <td>6.2267</td>\n",
       "      <td>5</td>\n",
       "      <td>311</td>\n",
       "      <td>15.2</td>\n",
       "      <td>396.90</td>\n",
       "      <td>13.27</td>\n",
       "      <td>18.9</td>\n",
       "    </tr>\n",
       "    <tr>\n",
       "      <th>12</th>\n",
       "      <td>0.24</td>\n",
       "      <td>-0.42</td>\n",
       "      <td>1.40</td>\n",
       "      <td>-0.41</td>\n",
       "      <td>-0.86</td>\n",
       "      <td>0.09378</td>\n",
       "      <td>12.5</td>\n",
       "      <td>7.87</td>\n",
       "      <td>0</td>\n",
       "      <td>0.524</td>\n",
       "      <td>5.889</td>\n",
       "      <td>39.0</td>\n",
       "      <td>5.4509</td>\n",
       "      <td>5</td>\n",
       "      <td>311</td>\n",
       "      <td>15.2</td>\n",
       "      <td>390.50</td>\n",
       "      <td>15.71</td>\n",
       "      <td>21.7</td>\n",
       "    </tr>\n",
       "    <tr>\n",
       "      <th>13</th>\n",
       "      <td>0.02</td>\n",
       "      <td>-0.29</td>\n",
       "      <td>0.17</td>\n",
       "      <td>0.48</td>\n",
       "      <td>-1.67</td>\n",
       "      <td>0.62976</td>\n",
       "      <td>0.0</td>\n",
       "      <td>8.14</td>\n",
       "      <td>0</td>\n",
       "      <td>0.538</td>\n",
       "      <td>5.949</td>\n",
       "      <td>61.8</td>\n",
       "      <td>4.7075</td>\n",
       "      <td>4</td>\n",
       "      <td>307</td>\n",
       "      <td>21.0</td>\n",
       "      <td>396.90</td>\n",
       "      <td>8.26</td>\n",
       "      <td>20.4</td>\n",
       "    </tr>\n",
       "    <tr>\n",
       "      <th>14</th>\n",
       "      <td>-0.08</td>\n",
       "      <td>-2.09</td>\n",
       "      <td>0.96</td>\n",
       "      <td>0.26</td>\n",
       "      <td>0.75</td>\n",
       "      <td>0.63796</td>\n",
       "      <td>0.0</td>\n",
       "      <td>8.14</td>\n",
       "      <td>0</td>\n",
       "      <td>0.538</td>\n",
       "      <td>6.096</td>\n",
       "      <td>84.5</td>\n",
       "      <td>4.4619</td>\n",
       "      <td>4</td>\n",
       "      <td>307</td>\n",
       "      <td>21.0</td>\n",
       "      <td>380.02</td>\n",
       "      <td>10.26</td>\n",
       "      <td>18.2</td>\n",
       "    </tr>\n",
       "  </tbody>\n",
       "</table>\n",
       "</div>"
      ],
      "text/plain": [
       "         R1    R2    R3    R4    R5       X1    X2    X3  X4     X5     X6  \\\n",
       "index                                                                        \n",
       "0     -0.21  0.11 -0.65 -0.54  1.48  0.00632  18.0  2.31   0  0.538  6.575   \n",
       "1      0.08 -0.61 -0.85 -0.36 -0.12  0.02731   0.0  7.07   0  0.469  6.421   \n",
       "2     -1.32  0.95 -0.75 -0.99 -0.36  0.02729   0.0  7.07   0  0.469  7.185   \n",
       "3      0.23 -0.10 -0.43  1.58  0.00  0.03237   0.0  2.18   0  0.458  6.998   \n",
       "4     -1.67  1.49  0.41  0.63 -0.87  0.06905   0.0  2.18   0  0.458  7.147   \n",
       "5     -0.13 -0.43 -0.22  0.30  0.55  0.02985   0.0  2.18   0  0.458  6.430   \n",
       "6      1.83  1.69 -2.16 -0.31  0.88  0.08829  12.5  7.87   0  0.524  6.012   \n",
       "7      0.29 -0.61 -0.67 -0.53  0.24  0.14455  12.5  7.87   0  0.524  6.172   \n",
       "8     -0.57  0.48  1.19 -0.79 -0.89  0.21124  12.5  7.87   0  0.524  5.631   \n",
       "9     -0.29 -1.18  0.15 -0.77 -0.47  0.17004  12.5  7.87   0  0.524  6.004   \n",
       "10    -0.46 -0.18 -1.08 -0.70  0.29  0.22489  12.5  7.87   0  0.524  6.377   \n",
       "11    -0.57 -1.01 -0.16 -0.07 -0.28  0.11747  12.5  7.87   0  0.524  6.009   \n",
       "12     0.24 -0.42  1.40 -0.41 -0.86  0.09378  12.5  7.87   0  0.524  5.889   \n",
       "13     0.02 -0.29  0.17  0.48 -1.67  0.62976   0.0  8.14   0  0.538  5.949   \n",
       "14    -0.08 -2.09  0.96  0.26  0.75  0.63796   0.0  8.14   0  0.538  6.096   \n",
       "\n",
       "          X7      X8  X9  X10   X11     X12    X13     Y  \n",
       "index                                                     \n",
       "0       65.2  4.0900   1  296  15.3  396.90   4.98  24.0  \n",
       "1       78.9  4.9671   2  242  17.8  396.90   9.14  21.6  \n",
       "2       61.1  4.9671   2  242  17.8  392.83   4.03  34.7  \n",
       "3       45.8  6.0622   3  222  18.7  394.63   2.94  33.4  \n",
       "4       54.2  6.0622   3  222  18.7  396.90   5.33  36.2  \n",
       "5       58.7  6.0622   3  222  18.7  394.12   5.21  28.7  \n",
       "6       66.6  5.5605   5  311  15.2  395.60  12.43  22.9  \n",
       "7       96.1  5.9505   5  311  15.2  396.90  19.15  27.1  \n",
       "8      100.0  6.0821   5  311  15.2  386.63  29.93  16.5  \n",
       "9       85.9  6.5921   5  311  15.2  386.71  17.10  18.9  \n",
       "10      94.3  6.3467   5  311  15.2  392.52  20.45  15.0  \n",
       "11      82.9  6.2267   5  311  15.2  396.90  13.27  18.9  \n",
       "12      39.0  5.4509   5  311  15.2  390.50  15.71  21.7  \n",
       "13      61.8  4.7075   4  307  21.0  396.90   8.26  20.4  \n",
       "14      84.5  4.4619   4  307  21.0  380.02  10.26  18.2  "
      ]
     },
     "execution_count": 1,
     "metadata": {},
     "output_type": "execute_result"
    }
   ],
   "source": [
    "\n",
    "# Load library\n",
    "import pandas as pd\n",
    "# Load data as a dataframe\n",
    "dataframe = pd.read_csv(\"Boston_Data.csv\", index_col=\"index\")\n",
    "# Show first 5 rows\n",
    "dataframe.head(15)"
   ]
  },
  {
   "cell_type": "markdown",
   "metadata": {},
   "source": [
    "# Les caracteristiques des données et leurs dimensions"
   ]
  },
  {
   "cell_type": "code",
   "execution_count": 3,
   "metadata": {},
   "outputs": [
    {
     "name": "stdout",
     "output_type": "stream",
     "text": [
      "L'ensemble de données sur le logement à Boston comporte 506 points de données avec 19 variables chacun.\n"
     ]
    }
   ],
   "source": [
    "Y = dataframe['Y']\n",
    "X = dataframe.drop('Y', axis = 1)\n",
    "#X = dataframe.iloc[:,:-1]    \n",
    "# Success\n",
    "print(\"L'ensemble de données sur le logement à Boston comporte {} points de données avec {} variables chacun.\".format(*dataframe.shape))\n"
   ]
  },
  {
   "cell_type": "markdown",
   "metadata": {},
   "source": [
    "# Les statistiques du jeu de données"
   ]
  },
  {
   "cell_type": "code",
   "execution_count": 4,
   "metadata": {},
   "outputs": [
    {
     "data": {
      "text/plain": [
       "count    506.000000\n",
       "mean      22.532806\n",
       "std        9.197104\n",
       "min        5.000000\n",
       "25%       17.025000\n",
       "50%       21.200000\n",
       "75%       25.000000\n",
       "max       50.000000\n",
       "Name: Y, dtype: float64"
      ]
     },
     "execution_count": 4,
     "metadata": {},
     "output_type": "execute_result"
    }
   ],
   "source": [
    "import numpy as np\n",
    "\n",
    "Y.describe()"
   ]
  },
  {
   "cell_type": "code",
   "execution_count": 5,
   "metadata": {},
   "outputs": [
    {
     "data": {
      "text/html": [
       "<div>\n",
       "<style scoped>\n",
       "    .dataframe tbody tr th:only-of-type {\n",
       "        vertical-align: middle;\n",
       "    }\n",
       "\n",
       "    .dataframe tbody tr th {\n",
       "        vertical-align: top;\n",
       "    }\n",
       "\n",
       "    .dataframe thead th {\n",
       "        text-align: right;\n",
       "    }\n",
       "</style>\n",
       "<table border=\"1\" class=\"dataframe\">\n",
       "  <thead>\n",
       "    <tr style=\"text-align: right;\">\n",
       "      <th></th>\n",
       "      <th>R1</th>\n",
       "      <th>R2</th>\n",
       "      <th>R3</th>\n",
       "      <th>R4</th>\n",
       "      <th>R5</th>\n",
       "      <th>X1</th>\n",
       "      <th>X2</th>\n",
       "      <th>X3</th>\n",
       "      <th>X4</th>\n",
       "      <th>X5</th>\n",
       "      <th>X6</th>\n",
       "      <th>X7</th>\n",
       "      <th>X8</th>\n",
       "      <th>X9</th>\n",
       "      <th>X10</th>\n",
       "      <th>X11</th>\n",
       "      <th>X12</th>\n",
       "      <th>X13</th>\n",
       "    </tr>\n",
       "  </thead>\n",
       "  <tbody>\n",
       "    <tr>\n",
       "      <th>count</th>\n",
       "      <td>506.000000</td>\n",
       "      <td>506.000000</td>\n",
       "      <td>506.000000</td>\n",
       "      <td>506.000000</td>\n",
       "      <td>506.000000</td>\n",
       "      <td>506.000000</td>\n",
       "      <td>506.000000</td>\n",
       "      <td>506.000000</td>\n",
       "      <td>506.000000</td>\n",
       "      <td>506.000000</td>\n",
       "      <td>506.000000</td>\n",
       "      <td>506.000000</td>\n",
       "      <td>506.000000</td>\n",
       "      <td>506.000000</td>\n",
       "      <td>506.000000</td>\n",
       "      <td>506.000000</td>\n",
       "      <td>506.000000</td>\n",
       "      <td>506.000000</td>\n",
       "    </tr>\n",
       "    <tr>\n",
       "      <th>mean</th>\n",
       "      <td>-0.007826</td>\n",
       "      <td>-0.000613</td>\n",
       "      <td>-0.026858</td>\n",
       "      <td>-0.002154</td>\n",
       "      <td>-0.037372</td>\n",
       "      <td>3.613524</td>\n",
       "      <td>11.363636</td>\n",
       "      <td>11.136779</td>\n",
       "      <td>0.069170</td>\n",
       "      <td>0.554695</td>\n",
       "      <td>6.284634</td>\n",
       "      <td>68.574901</td>\n",
       "      <td>3.795043</td>\n",
       "      <td>9.549407</td>\n",
       "      <td>408.237154</td>\n",
       "      <td>18.455534</td>\n",
       "      <td>356.674032</td>\n",
       "      <td>12.653063</td>\n",
       "    </tr>\n",
       "    <tr>\n",
       "      <th>std</th>\n",
       "      <td>0.953537</td>\n",
       "      <td>0.970349</td>\n",
       "      <td>0.953501</td>\n",
       "      <td>1.038352</td>\n",
       "      <td>1.042602</td>\n",
       "      <td>8.601545</td>\n",
       "      <td>23.322453</td>\n",
       "      <td>6.860353</td>\n",
       "      <td>0.253994</td>\n",
       "      <td>0.115878</td>\n",
       "      <td>0.702617</td>\n",
       "      <td>28.148861</td>\n",
       "      <td>2.105710</td>\n",
       "      <td>8.707259</td>\n",
       "      <td>168.537116</td>\n",
       "      <td>2.164946</td>\n",
       "      <td>91.294864</td>\n",
       "      <td>7.141062</td>\n",
       "    </tr>\n",
       "    <tr>\n",
       "      <th>min</th>\n",
       "      <td>-2.910000</td>\n",
       "      <td>-2.290000</td>\n",
       "      <td>-2.710000</td>\n",
       "      <td>-3.190000</td>\n",
       "      <td>-2.660000</td>\n",
       "      <td>0.006320</td>\n",
       "      <td>0.000000</td>\n",
       "      <td>0.460000</td>\n",
       "      <td>0.000000</td>\n",
       "      <td>0.385000</td>\n",
       "      <td>3.561000</td>\n",
       "      <td>2.900000</td>\n",
       "      <td>1.129600</td>\n",
       "      <td>1.000000</td>\n",
       "      <td>187.000000</td>\n",
       "      <td>12.600000</td>\n",
       "      <td>0.320000</td>\n",
       "      <td>1.730000</td>\n",
       "    </tr>\n",
       "    <tr>\n",
       "      <th>25%</th>\n",
       "      <td>-0.597500</td>\n",
       "      <td>-0.680000</td>\n",
       "      <td>-0.617500</td>\n",
       "      <td>-0.770000</td>\n",
       "      <td>-0.807500</td>\n",
       "      <td>0.082045</td>\n",
       "      <td>0.000000</td>\n",
       "      <td>5.190000</td>\n",
       "      <td>0.000000</td>\n",
       "      <td>0.449000</td>\n",
       "      <td>5.885500</td>\n",
       "      <td>45.025000</td>\n",
       "      <td>2.100175</td>\n",
       "      <td>4.000000</td>\n",
       "      <td>279.000000</td>\n",
       "      <td>17.400000</td>\n",
       "      <td>375.377500</td>\n",
       "      <td>6.950000</td>\n",
       "    </tr>\n",
       "    <tr>\n",
       "      <th>50%</th>\n",
       "      <td>0.015000</td>\n",
       "      <td>-0.025000</td>\n",
       "      <td>0.005000</td>\n",
       "      <td>0.000000</td>\n",
       "      <td>-0.090000</td>\n",
       "      <td>0.256510</td>\n",
       "      <td>0.000000</td>\n",
       "      <td>9.690000</td>\n",
       "      <td>0.000000</td>\n",
       "      <td>0.538000</td>\n",
       "      <td>6.208500</td>\n",
       "      <td>77.500000</td>\n",
       "      <td>3.207450</td>\n",
       "      <td>5.000000</td>\n",
       "      <td>330.000000</td>\n",
       "      <td>19.050000</td>\n",
       "      <td>391.440000</td>\n",
       "      <td>11.360000</td>\n",
       "    </tr>\n",
       "    <tr>\n",
       "      <th>75%</th>\n",
       "      <td>0.670000</td>\n",
       "      <td>0.650000</td>\n",
       "      <td>0.590000</td>\n",
       "      <td>0.697500</td>\n",
       "      <td>0.687500</td>\n",
       "      <td>3.677083</td>\n",
       "      <td>12.500000</td>\n",
       "      <td>18.100000</td>\n",
       "      <td>0.000000</td>\n",
       "      <td>0.624000</td>\n",
       "      <td>6.623500</td>\n",
       "      <td>94.075000</td>\n",
       "      <td>5.188425</td>\n",
       "      <td>24.000000</td>\n",
       "      <td>666.000000</td>\n",
       "      <td>20.200000</td>\n",
       "      <td>396.225000</td>\n",
       "      <td>16.955000</td>\n",
       "    </tr>\n",
       "    <tr>\n",
       "      <th>max</th>\n",
       "      <td>2.380000</td>\n",
       "      <td>3.180000</td>\n",
       "      <td>2.460000</td>\n",
       "      <td>2.930000</td>\n",
       "      <td>3.890000</td>\n",
       "      <td>88.976200</td>\n",
       "      <td>100.000000</td>\n",
       "      <td>27.740000</td>\n",
       "      <td>1.000000</td>\n",
       "      <td>0.871000</td>\n",
       "      <td>8.780000</td>\n",
       "      <td>100.000000</td>\n",
       "      <td>12.126500</td>\n",
       "      <td>24.000000</td>\n",
       "      <td>711.000000</td>\n",
       "      <td>22.000000</td>\n",
       "      <td>396.900000</td>\n",
       "      <td>37.970000</td>\n",
       "    </tr>\n",
       "  </tbody>\n",
       "</table>\n",
       "</div>"
      ],
      "text/plain": [
       "               R1          R2          R3          R4          R5          X1  \\\n",
       "count  506.000000  506.000000  506.000000  506.000000  506.000000  506.000000   \n",
       "mean    -0.007826   -0.000613   -0.026858   -0.002154   -0.037372    3.613524   \n",
       "std      0.953537    0.970349    0.953501    1.038352    1.042602    8.601545   \n",
       "min     -2.910000   -2.290000   -2.710000   -3.190000   -2.660000    0.006320   \n",
       "25%     -0.597500   -0.680000   -0.617500   -0.770000   -0.807500    0.082045   \n",
       "50%      0.015000   -0.025000    0.005000    0.000000   -0.090000    0.256510   \n",
       "75%      0.670000    0.650000    0.590000    0.697500    0.687500    3.677083   \n",
       "max      2.380000    3.180000    2.460000    2.930000    3.890000   88.976200   \n",
       "\n",
       "               X2          X3          X4          X5          X6          X7  \\\n",
       "count  506.000000  506.000000  506.000000  506.000000  506.000000  506.000000   \n",
       "mean    11.363636   11.136779    0.069170    0.554695    6.284634   68.574901   \n",
       "std     23.322453    6.860353    0.253994    0.115878    0.702617   28.148861   \n",
       "min      0.000000    0.460000    0.000000    0.385000    3.561000    2.900000   \n",
       "25%      0.000000    5.190000    0.000000    0.449000    5.885500   45.025000   \n",
       "50%      0.000000    9.690000    0.000000    0.538000    6.208500   77.500000   \n",
       "75%     12.500000   18.100000    0.000000    0.624000    6.623500   94.075000   \n",
       "max    100.000000   27.740000    1.000000    0.871000    8.780000  100.000000   \n",
       "\n",
       "               X8          X9         X10         X11         X12         X13  \n",
       "count  506.000000  506.000000  506.000000  506.000000  506.000000  506.000000  \n",
       "mean     3.795043    9.549407  408.237154   18.455534  356.674032   12.653063  \n",
       "std      2.105710    8.707259  168.537116    2.164946   91.294864    7.141062  \n",
       "min      1.129600    1.000000  187.000000   12.600000    0.320000    1.730000  \n",
       "25%      2.100175    4.000000  279.000000   17.400000  375.377500    6.950000  \n",
       "50%      3.207450    5.000000  330.000000   19.050000  391.440000   11.360000  \n",
       "75%      5.188425   24.000000  666.000000   20.200000  396.225000   16.955000  \n",
       "max     12.126500   24.000000  711.000000   22.000000  396.900000   37.970000  "
      ]
     },
     "execution_count": 5,
     "metadata": {},
     "output_type": "execute_result"
    }
   ],
   "source": [
    "X.describe()"
   ]
  },
  {
   "cell_type": "markdown",
   "metadata": {},
   "source": [
    "# Observation des caracteristiques"
   ]
  },
  {
   "cell_type": "markdown",
   "metadata": {},
   "source": [
    "La science des données est le processus qui consiste à faire des hypothèses sur les données et à les tester en effectuant certaines tâches. Au départ, nous pourrions faire les hypothèses intuitives suivantes pour chaque caractéristique :"
   ]
  },
  {
   "cell_type": "code",
   "execution_count": 6,
   "metadata": {},
   "outputs": [
    {
     "data": {
      "text/plain": [
       "(506, 18)"
      ]
     },
     "execution_count": 6,
     "metadata": {},
     "output_type": "execute_result"
    }
   ],
   "source": [
    "# Dimension de X\n",
    "X.shape"
   ]
  },
  {
   "cell_type": "code",
   "execution_count": 7,
   "metadata": {},
   "outputs": [
    {
     "data": {
      "text/plain": [
       "(506,)"
      ]
     },
     "execution_count": 7,
     "metadata": {},
     "output_type": "execute_result"
    }
   ],
   "source": [
    "# Dimension de Y\n",
    "Y.shape"
   ]
  },
  {
   "cell_type": "markdown",
   "metadata": {},
   "source": [
    "# Visualisation des donnees"
   ]
  },
  {
   "cell_type": "code",
   "execution_count": 8,
   "metadata": {},
   "outputs": [
    {
     "data": {
      "image/png": "[encoded data removed]",
      "text/plain": [
       "<Figure size 1440x360 with 18 Axes>"
      ]
     },
     "metadata": {
      "needs_background": "light"
     },
     "output_type": "display_data"
    }
   ],
   "source": [
    "# Using pyplot\n",
    "import matplotlib.pyplot as plt\n",
    "plt.figure(figsize=(20, 5))\n",
    "\n",
    "# i: index\n",
    "for i, col in enumerate(X.columns):\n",
    "    # 3 plots here hence 1, 3\n",
    "    plt.subplot(2, 13, i+1)\n",
    "    x = dataframe[col]\n",
    "    y = Y\n",
    "    plt.plot(x, y, 'o')\n",
    "    # Create regression line\n",
    "    plt.plot(np.unique(x), np.poly1d(np.polyfit(x, y, 1))(np.unique(x)))\n",
    "    plt.title(col)\n",
    "    plt.xlabel(col)\n",
    "    plt.ylabel('Y')"
   ]
  },
  {
   "cell_type": "markdown",
   "metadata": {},
   "source": [
    "# Implementation: melange  et  séparation des  données"
   ]
  },
  {
   "cell_type": "code",
   "execution_count": 8,
   "metadata": {},
   "outputs": [
    {
     "name": "stdout",
     "output_type": "stream",
     "text": [
      "Training and testing split was successful.\n"
     ]
    }
   ],
   "source": [
    "# Import 'train_test_split'\n",
    "#from sklearn.cross_validation import train_test_split\n",
    "from sklearn.model_selection import train_test_split\n",
    "\n",
    "# melange  et  séparation des  données\n",
    "X_train, X_test, Y_train, Y_test = train_test_split(X, Y, test_size=0.2, random_state=42)\n",
    "\n",
    "# Success\n",
    "print(\"Training and testing split was successful.\")"
   ]
  },
  {
   "cell_type": "markdown",
   "metadata": {},
   "source": [
    "# Le rapport donnees de Test et Train"
   ]
  },
  {
   "cell_type": "code",
   "execution_count": 9,
   "metadata": {},
   "outputs": [
    {
     "name": "stdout",
     "output_type": "stream",
     "text": [
      "506\n",
      "0.7984189723320159\n",
      "0.2015810276679842\n"
     ]
    }
   ],
   "source": [
    "# Check if split is actually correct\n",
    "# We can see it's roughly 80% train and 20% train\n",
    "# So we can proceed!\n",
    "print(X.shape[0])\n",
    "print(float(X_train.shape[0]) / float(X.shape[0]))\n",
    "print(float(X_test.shape[0]) / float(X.shape[0]))"
   ]
  },
  {
   "cell_type": "markdown",
   "metadata": {},
   "source": [
    " Dimension donnees de Train:"
   ]
  },
  {
   "cell_type": "code",
   "execution_count": 10,
   "metadata": {},
   "outputs": [
    {
     "data": {
      "text/plain": [
       "(404, 18)"
      ]
     },
     "execution_count": 10,
     "metadata": {},
     "output_type": "execute_result"
    }
   ],
   "source": [
    "X_train.shape"
   ]
  },
  {
   "cell_type": "markdown",
   "metadata": {},
   "source": [
    "Dimension donnees de Test:"
   ]
  },
  {
   "cell_type": "code",
   "execution_count": 11,
   "metadata": {},
   "outputs": [
    {
     "data": {
      "text/plain": [
       "(102, 18)"
      ]
     },
     "execution_count": 11,
     "metadata": {},
     "output_type": "execute_result"
    }
   ],
   "source": [
    "X_test.shape"
   ]
  },
  {
   "cell_type": "markdown",
   "metadata": {},
   "source": [
    "# Normalisation des donnees de test et d'entrainement"
   ]
  },
  {
   "cell_type": "code",
   "execution_count": 12,
   "metadata": {},
   "outputs": [],
   "source": [
    "from sklearn.preprocessing import StandardScaler\n",
    "scalar = StandardScaler()\n",
    "X_train_ac = scalar.fit_transform(X_train)\n",
    "X_test_ac = scalar.transform(X_test)"
   ]
  },
  {
   "cell_type": "markdown",
   "metadata": {},
   "source": [
    "# Entrainer et tester le modèle\n",
    "Nous utilisons la LinearRegression de Scikit-learn pour entraîner notre modèle à la fois sur les ensembles d'entrainement et de test."
   ]
  },
  {
   "cell_type": "markdown",
   "metadata": {},
   "source": [
    "## Insert intercept data train"
   ]
  },
  {
   "cell_type": "code",
   "execution_count": 13,
   "metadata": {},
   "outputs": [
    {
     "data": {
      "text/plain": [
       "Index(['intercept', 'R1', 'R2', 'R3', 'R4', 'R5', 'X1', 'X2', 'X3', 'X4', 'X5',\n",
       "       'X6', 'X7', 'X8', 'X9', 'X10', 'X11', 'X12', 'X13'],\n",
       "      dtype='object')"
      ]
     },
     "execution_count": 13,
     "metadata": {},
     "output_type": "execute_result"
    }
   ],
   "source": [
    "n_train, _ = X_train.shape\n",
    "X_train_ac_df = pd.DataFrame(X_train_ac, columns = X_train.columns)\n",
    "X_train_ac_df.insert(0, 'intercept', np.ones(n_train), True)\n",
    "X_train_ac_df.columns"
   ]
  },
  {
   "cell_type": "markdown",
   "metadata": {},
   "source": [
    "## Insert intercept data test"
   ]
  },
  {
   "cell_type": "code",
   "execution_count": 14,
   "metadata": {},
   "outputs": [
    {
     "data": {
      "text/plain": [
       "Index(['intercept', 'R1', 'R2', 'R3', 'R4', 'R5', 'X1', 'X2', 'X3', 'X4', 'X5',\n",
       "       'X6', 'X7', 'X8', 'X9', 'X10', 'X11', 'X12', 'X13'],\n",
       "      dtype='object')"
      ]
     },
     "execution_count": 14,
     "metadata": {},
     "output_type": "execute_result"
    }
   ],
   "source": [
    "n_test, _ = X_test.shape\n",
    "X_test_ac_df = pd.DataFrame(X_test_ac, columns = X_test.columns)\n",
    "X_test_ac_df.insert(0, 'intercept', np.ones(n_test), True)\n",
    "X_test_ac_df.columns"
   ]
  },
  {
   "cell_type": "code",
   "execution_count": 15,
   "metadata": {},
   "outputs": [
    {
     "name": "stdout",
     "output_type": "stream",
     "text": [
      "Index(['intercept', 'R1', 'R2', 'R3', 'R4', 'R5', 'X1', 'X2', 'X3', 'X4', 'X5',\n",
      "       'X6', 'X7', 'X8', 'X9', 'X10', 'X11', 'X12', 'X13'],\n",
      "      dtype='object')\n",
      "Index(['intercept', 'R1', 'R2', 'R3', 'R4', 'R5', 'X1', 'X2', 'X3', 'X4', 'X5',\n",
      "       'X6', 'X7', 'X8', 'X9', 'X10', 'X11', 'X12', 'X13'],\n",
      "      dtype='object')\n"
     ]
    }
   ],
   "source": [
    "print(X_train_ac_df.columns)\n",
    "print(X_test_ac_df.columns)"
   ]
  },
  {
   "cell_type": "code",
   "execution_count": 67,
   "metadata": {},
   "outputs": [],
   "source": [
    "#import statsmodels.api as sm\n",
    "#import statsmodels.formula.api as smf\n",
    "#X_train_constant = sm.add_constant(X_train_ac)"
   ]
  },
  {
   "cell_type": "markdown",
   "metadata": {},
   "source": [
    "## Elimination des caracteristiques pour les p-values superieure à 0.05 en commençant par la plus grande valeur de p-value"
   ]
  },
  {
   "cell_type": "code",
   "execution_count": 16,
   "metadata": {},
   "outputs": [],
   "source": [
    "## c'est les caracteristiques supprimés\n",
    "X_train_ac_df_reduit = X_train_ac_df.drop(['R1', 'R2', 'R3', 'R4', 'R5', 'X2', 'X3', 'X7'], axis=1)"
   ]
  },
  {
   "cell_type": "code",
   "execution_count": 17,
   "metadata": {},
   "outputs": [
    {
     "name": "stdout",
     "output_type": "stream",
     "text": [
      "                            OLS Regression Results                            \n",
      "==============================================================================\n",
      "Dep. Variable:                      y   R-squared:                       0.748\n",
      "Model:                            OLS   Adj. R-squared:                  0.742\n",
      "Method:                 Least Squares   F-statistic:                     116.8\n",
      "Date:                Tue, 02 Mar 2021   Prob (F-statistic):          3.85e-111\n",
      "Time:                        20:23:23   Log-Likelihood:                -1196.4\n",
      "No. Observations:                 404   AIC:                             2415.\n",
      "Df Residuals:                     393   BIC:                             2459.\n",
      "Df Model:                          10                                         \n",
      "Covariance Type:            nonrobust                                         \n",
      "==============================================================================\n",
      "                 coef    std err          t      P>|t|      [0.025      0.975]\n",
      "------------------------------------------------------------------------------\n",
      "intercept     22.7965      0.236     96.646      0.000      22.333      23.260\n",
      "X1            -0.9624      0.307     -3.130      0.002      -1.567      -0.358\n",
      "X4             0.7422      0.246      3.023      0.003       0.260       1.225\n",
      "X5            -2.1106      0.460     -4.592      0.000      -3.014      -1.207\n",
      "X6             3.1629      0.317      9.976      0.000       2.540       3.786\n",
      "X8            -2.6287      0.382     -6.886      0.000      -3.379      -1.878\n",
      "X9             2.0428      0.628      3.252      0.001       0.808       3.278\n",
      "X10           -1.2938      0.628     -2.062      0.040      -2.528      -0.060\n",
      "X11           -2.2532      0.295     -7.632      0.000      -2.834      -1.673\n",
      "X12            1.1225      0.271      4.144      0.000       0.590       1.655\n",
      "X13           -3.6235      0.377     -9.618      0.000      -4.364      -2.883\n",
      "==============================================================================\n",
      "Omnibus:                      131.956   Durbin-Watson:                   2.131\n",
      "Prob(Omnibus):                  0.000   Jarque-Bera (JB):              569.772\n",
      "Skew:                           1.370   Prob(JB):                    1.89e-124\n",
      "Kurtosis:                       8.133   Cond. No.                         7.58\n",
      "==============================================================================\n",
      "\n",
      "Warnings:\n",
      "[1] Standard Errors assume that the covariance matrix of the errors is correctly specified.\n"
     ]
    }
   ],
   "source": [
    "import statsmodels.api as sm\n",
    "import statsmodels.formula.api as smf\n",
    "model = sm.OLS(np.asarray(Y_train), X_train_ac_df_reduit)\n",
    "res_train = model.fit()\n",
    "#résultats détaillés\n",
    "print(res_train.summary())"
   ]
  },
  {
   "cell_type": "code",
   "execution_count": 478,
   "metadata": {},
   "outputs": [],
   "source": [
    "### drop features for  training data =\n",
    "#X_train_ac_df_reduit = \n",
    "#X_train_ac_df_reduit = X_train_ac_df.drop(['R1', 'R2', 'R3', 'R4', 'R5', 'X2', 'X3', 'X7'], axis=1)"
   ]
  },
  {
   "cell_type": "code",
   "execution_count": 18,
   "metadata": {},
   "outputs": [
    {
     "data": {
      "text/html": [
       "<div>\n",
       "<style scoped>\n",
       "    .dataframe tbody tr th:only-of-type {\n",
       "        vertical-align: middle;\n",
       "    }\n",
       "\n",
       "    .dataframe tbody tr th {\n",
       "        vertical-align: top;\n",
       "    }\n",
       "\n",
       "    .dataframe thead th {\n",
       "        text-align: right;\n",
       "    }\n",
       "</style>\n",
       "<table border=\"1\" class=\"dataframe\">\n",
       "  <thead>\n",
       "    <tr style=\"text-align: right;\">\n",
       "      <th></th>\n",
       "      <th>intercept</th>\n",
       "      <th>X1</th>\n",
       "      <th>X4</th>\n",
       "      <th>X5</th>\n",
       "      <th>X6</th>\n",
       "      <th>X8</th>\n",
       "      <th>X9</th>\n",
       "      <th>X10</th>\n",
       "      <th>X11</th>\n",
       "      <th>X12</th>\n",
       "      <th>X13</th>\n",
       "    </tr>\n",
       "  </thead>\n",
       "  <tbody>\n",
       "    <tr>\n",
       "      <th>0</th>\n",
       "      <td>1.0</td>\n",
       "      <td>-0.396809</td>\n",
       "      <td>-0.278089</td>\n",
       "      <td>-0.395412</td>\n",
       "      <td>0.141282</td>\n",
       "      <td>-0.545853</td>\n",
       "      <td>-0.507797</td>\n",
       "      <td>-0.650926</td>\n",
       "      <td>-0.771951</td>\n",
       "      <td>0.428872</td>\n",
       "      <td>-0.481210</td>\n",
       "    </tr>\n",
       "    <tr>\n",
       "      <th>1</th>\n",
       "      <td>1.0</td>\n",
       "      <td>-0.400796</td>\n",
       "      <td>3.595975</td>\n",
       "      <td>-0.931315</td>\n",
       "      <td>0.623942</td>\n",
       "      <td>0.126565</td>\n",
       "      <td>-0.624360</td>\n",
       "      <td>-0.903989</td>\n",
       "      <td>-0.322703</td>\n",
       "      <td>0.444180</td>\n",
       "      <td>-1.257094</td>\n",
       "    </tr>\n",
       "    <tr>\n",
       "      <th>2</th>\n",
       "      <td>1.0</td>\n",
       "      <td>-0.395234</td>\n",
       "      <td>-0.278089</td>\n",
       "      <td>0.446720</td>\n",
       "      <td>-0.469805</td>\n",
       "      <td>-0.911447</td>\n",
       "      <td>-0.624360</td>\n",
       "      <td>1.849573</td>\n",
       "      <td>0.800418</td>\n",
       "      <td>0.369934</td>\n",
       "      <td>0.790338</td>\n",
       "    </tr>\n",
       "    <tr>\n",
       "      <th>3</th>\n",
       "      <td>1.0</td>\n",
       "      <td>-0.396825</td>\n",
       "      <td>-0.278089</td>\n",
       "      <td>-1.220532</td>\n",
       "      <td>-0.354079</td>\n",
       "      <td>0.694876</td>\n",
       "      <td>-0.624360</td>\n",
       "      <td>-0.596698</td>\n",
       "      <td>0.396095</td>\n",
       "      <td>0.378682</td>\n",
       "      <td>-0.976875</td>\n",
       "    </tr>\n",
       "    <tr>\n",
       "      <th>4</th>\n",
       "      <td>1.0</td>\n",
       "      <td>0.167084</td>\n",
       "      <td>-0.278089</td>\n",
       "      <td>1.331384</td>\n",
       "      <td>-0.026661</td>\n",
       "      <td>-0.676503</td>\n",
       "      <td>1.706891</td>\n",
       "      <td>1.578434</td>\n",
       "      <td>0.845343</td>\n",
       "      <td>0.315043</td>\n",
       "      <td>0.677687</td>\n",
       "    </tr>\n",
       "    <tr>\n",
       "      <th>...</th>\n",
       "      <td>...</td>\n",
       "      <td>...</td>\n",
       "      <td>...</td>\n",
       "      <td>...</td>\n",
       "      <td>...</td>\n",
       "      <td>...</td>\n",
       "      <td>...</td>\n",
       "      <td>...</td>\n",
       "      <td>...</td>\n",
       "      <td>...</td>\n",
       "      <td>...</td>\n",
       "    </tr>\n",
       "    <tr>\n",
       "      <th>97</th>\n",
       "      <td>1.0</td>\n",
       "      <td>1.715000</td>\n",
       "      <td>-0.278089</td>\n",
       "      <td>0.344643</td>\n",
       "      <td>-2.382098</td>\n",
       "      <td>-1.059057</td>\n",
       "      <td>1.706891</td>\n",
       "      <td>1.578434</td>\n",
       "      <td>0.845343</td>\n",
       "      <td>-3.580942</td>\n",
       "      <td>3.085604</td>\n",
       "    </tr>\n",
       "    <tr>\n",
       "      <th>98</th>\n",
       "      <td>1.0</td>\n",
       "      <td>1.219719</td>\n",
       "      <td>-0.278089</td>\n",
       "      <td>1.561057</td>\n",
       "      <td>0.204790</td>\n",
       "      <td>-0.848260</td>\n",
       "      <td>1.706891</td>\n",
       "      <td>1.578434</td>\n",
       "      <td>0.845343</td>\n",
       "      <td>-3.595156</td>\n",
       "      <td>0.787522</td>\n",
       "    </tr>\n",
       "    <tr>\n",
       "      <th>99</th>\n",
       "      <td>1.0</td>\n",
       "      <td>1.177967</td>\n",
       "      <td>-0.278089</td>\n",
       "      <td>0.344643</td>\n",
       "      <td>0.481403</td>\n",
       "      <td>-1.071460</td>\n",
       "      <td>1.706891</td>\n",
       "      <td>1.578434</td>\n",
       "      <td>0.845343</td>\n",
       "      <td>-3.512491</td>\n",
       "      <td>1.233902</td>\n",
       "    </tr>\n",
       "    <tr>\n",
       "      <th>100</th>\n",
       "      <td>1.0</td>\n",
       "      <td>-0.401311</td>\n",
       "      <td>-0.278089</td>\n",
       "      <td>-0.914302</td>\n",
       "      <td>-0.424644</td>\n",
       "      <td>0.290806</td>\n",
       "      <td>-0.740922</td>\n",
       "      <td>-0.946166</td>\n",
       "      <td>0.081621</td>\n",
       "      <td>0.434230</td>\n",
       "      <td>0.056698</td>\n",
       "    </tr>\n",
       "    <tr>\n",
       "      <th>101</th>\n",
       "      <td>1.0</td>\n",
       "      <td>-0.396433</td>\n",
       "      <td>-0.278089</td>\n",
       "      <td>-1.016379</td>\n",
       "      <td>-0.042185</td>\n",
       "      <td>0.326228</td>\n",
       "      <td>-0.507797</td>\n",
       "      <td>-0.036346</td>\n",
       "      <td>0.171470</td>\n",
       "      <td>0.294705</td>\n",
       "      <td>-0.495292</td>\n",
       "    </tr>\n",
       "  </tbody>\n",
       "</table>\n",
       "<p>102 rows × 11 columns</p>\n",
       "</div>"
      ],
      "text/plain": [
       "     intercept        X1        X4        X5        X6        X8        X9  \\\n",
       "0          1.0 -0.396809 -0.278089 -0.395412  0.141282 -0.545853 -0.507797   \n",
       "1          1.0 -0.400796  3.595975 -0.931315  0.623942  0.126565 -0.624360   \n",
       "2          1.0 -0.395234 -0.278089  0.446720 -0.469805 -0.911447 -0.624360   \n",
       "3          1.0 -0.396825 -0.278089 -1.220532 -0.354079  0.694876 -0.624360   \n",
       "4          1.0  0.167084 -0.278089  1.331384 -0.026661 -0.676503  1.706891   \n",
       "..         ...       ...       ...       ...       ...       ...       ...   \n",
       "97         1.0  1.715000 -0.278089  0.344643 -2.382098 -1.059057  1.706891   \n",
       "98         1.0  1.219719 -0.278089  1.561057  0.204790 -0.848260  1.706891   \n",
       "99         1.0  1.177967 -0.278089  0.344643  0.481403 -1.071460  1.706891   \n",
       "100        1.0 -0.401311 -0.278089 -0.914302 -0.424644  0.290806 -0.740922   \n",
       "101        1.0 -0.396433 -0.278089 -1.016379 -0.042185  0.326228 -0.507797   \n",
       "\n",
       "          X10       X11       X12       X13  \n",
       "0   -0.650926 -0.771951  0.428872 -0.481210  \n",
       "1   -0.903989 -0.322703  0.444180 -1.257094  \n",
       "2    1.849573  0.800418  0.369934  0.790338  \n",
       "3   -0.596698  0.396095  0.378682 -0.976875  \n",
       "4    1.578434  0.845343  0.315043  0.677687  \n",
       "..        ...       ...       ...       ...  \n",
       "97   1.578434  0.845343 -3.580942  3.085604  \n",
       "98   1.578434  0.845343 -3.595156  0.787522  \n",
       "99   1.578434  0.845343 -3.512491  1.233902  \n",
       "100 -0.946166  0.081621  0.434230  0.056698  \n",
       "101 -0.036346  0.171470  0.294705 -0.495292  \n",
       "\n",
       "[102 rows x 11 columns]"
      ]
     },
     "execution_count": 18,
     "metadata": {},
     "output_type": "execute_result"
    }
   ],
   "source": [
    "### drop features for  test data =\n",
    "X_test_ac_df_reduit = X_test_ac_df.drop(['R1', 'R2', 'R3', 'R4', 'R5', 'X2', 'X3', 'X7'], axis=1)\n",
    "X_test_ac_df_reduit"
   ]
  },
  {
   "cell_type": "code",
   "execution_count": 19,
   "metadata": {},
   "outputs": [],
   "source": [
    "import statsmodels.api as sm\n",
    "import statsmodels.formula.api as smf\n",
    "model = sm.OLS(np.asarray(Y_test), X_test_ac_df_reduit)\n",
    "res_test = model.fit()\n",
    "#résultats détaillés\n",
    "#print(res_test.summary())"
   ]
  },
  {
   "cell_type": "markdown",
   "metadata": {},
   "source": [
    "# Calculs intermédiaires"
   ]
  },
  {
   "cell_type": "code",
   "execution_count": 20,
   "metadata": {},
   "outputs": [
    {
     "name": "stdout",
     "output_type": "stream",
     "text": [
      "intercept    22.796535\n",
      "X1           -0.962354\n",
      "X4            0.742179\n",
      "X5           -2.110641\n",
      "X6            3.162891\n",
      "X8           -2.628720\n",
      "X9            2.042819\n",
      "X10          -1.293794\n",
      "X11          -2.253191\n",
      "X12           1.122467\n",
      "X13          -3.623470\n",
      "dtype: float64\n",
      "0.748306611988744\n",
      "116.84236158735511\n",
      "116.84236158735511\n"
     ]
    }
   ],
   "source": [
    "#paramètres estimés train data\n",
    "print(res_train.params)\n",
    "#le R2\n",
    "print(res_train.rsquared)\n",
    "#calcul manuel du F à partir des carrés moyens\n",
    "F = res_train.mse_model / res_train.mse_resid\n",
    "print(F)\n",
    "#F fourni par l'objet res\n",
    "print(res_train.fvalue)"
   ]
  },
  {
   "cell_type": "code",
   "execution_count": 21,
   "metadata": {},
   "outputs": [
    {
     "name": "stdout",
     "output_type": "stream",
     "text": [
      "0      11.012915\n",
      "1      19.525864\n",
      "2      22.997561\n",
      "3      12.110601\n",
      "4      18.413547\n",
      "         ...    \n",
      "399    17.272994\n",
      "400    21.523421\n",
      "401    25.735537\n",
      "402    12.950586\n",
      "403    19.294401\n",
      "Length: 404, dtype: float64\n"
     ]
    }
   ],
   "source": [
    "#valeurs estimées par la régression en resubstitution train\n",
    "print(res_train.fittedvalues)"
   ]
  },
  {
   "cell_type": "code",
   "execution_count": 22,
   "metadata": {},
   "outputs": [
    {
     "name": "stdout",
     "output_type": "stream",
     "text": [
      "intercept    23.029006\n",
      "X1           -0.149863\n",
      "X4            0.366146\n",
      "X5           -2.702201\n",
      "X6            1.413502\n",
      "X8           -2.069150\n",
      "X9            3.056760\n",
      "X10          -1.827531\n",
      "X11          -3.215049\n",
      "X12          -0.202880\n",
      "X13          -4.417921\n",
      "dtype: float64\n",
      "0.7150364348705118\n",
      "22.833907044800398\n",
      "22.833907044800398\n"
     ]
    }
   ],
   "source": [
    "#paramètres estimés test\n",
    "print(res_test.params)\n",
    "#le R2\n",
    "print(res_test.rsquared)\n",
    "#calcul manuel du F à partir des carrés moyens\n",
    "F = res_test.mse_model / res_test.mse_resid\n",
    "print(F)\n",
    "#F fourni par l'objet res\n",
    "print(res_test.fvalue)"
   ]
  },
  {
   "cell_type": "code",
   "execution_count": 23,
   "metadata": {},
   "outputs": [
    {
     "name": "stdout",
     "output_type": "stream",
     "text": [
      "0      29.542461\n",
      "1      33.787065\n",
      "2      11.572381\n",
      "3      26.493914\n",
      "4      17.223793\n",
      "         ...    \n",
      "97      7.272769\n",
      "98     17.436029\n",
      "99     19.593264\n",
      "100    23.119323\n",
      "101    25.089703\n",
      "Length: 102, dtype: float64\n"
     ]
    }
   ],
   "source": [
    "#valeurs estimées par la régression en resubstitution test\n",
    "print(res_test.fittedvalues)"
   ]
  },
  {
   "cell_type": "code",
   "execution_count": 24,
   "metadata": {},
   "outputs": [],
   "source": [
    "from sklearn.metrics import mean_squared_error  \n",
    "\n",
    "\n",
    "mse_train = mean_squared_error(Y_train, res_train.fittedvalues, squared=False)\n",
    "mse_test = mean_squared_error(Y_test, res_test.fittedvalues, squared=False)"
   ]
  },
  {
   "cell_type": "code",
   "execution_count": null,
   "metadata": {},
   "outputs": [],
   "source": []
  },
  {
   "cell_type": "markdown",
   "metadata": {},
   "source": [
    "## Resultats Methode de sélection de variable pas-à-pas descendante::"
   ]
  },
  {
   "cell_type": "code",
   "execution_count": 25,
   "metadata": {},
   "outputs": [
    {
     "name": "stdout",
     "output_type": "stream",
     "text": [
      "R2_score (train):  0.748306611988744\n",
      "R2_score (test):  0.7150364348705118\n",
      "RMSE:  4.571373567517585\n"
     ]
    }
   ],
   "source": [
    "#print('CV: ', )\n",
    "print('R2_score (train): ', res_train.rsquared)\n",
    "print('R2_score (test): ', res_test.rsquared)\n",
    "print(\"RMSE: \", mse_test)"
   ]
  },
  {
   "cell_type": "markdown",
   "metadata": {},
   "source": [
    "#  La régression linéaire multiple:"
   ]
  },
  {
   "cell_type": "code",
   "execution_count": 27,
   "metadata": {},
   "outputs": [
    {
     "name": "stdout",
     "output_type": "stream",
     "text": [
      " Méthode: Régression linéaire :\n"
     ]
    }
   ],
   "source": [
    "### Regression lineaire multiple\n",
    "from sklearn.metrics import mean_squared_error, r2_score\n",
    "from sklearn.model_selection import cross_val_score\n",
    "from math import sqrt\n",
    "from sklearn.linear_model import LinearRegression\n",
    "\n",
    "\n",
    "print(\" Méthode: Régression linéaire :\")\n",
    "\n",
    "model_train   = LinearRegression().fit(X_train_ac_df,Y_train)\n",
    "\n",
    "# Predicting Cross Validation Score the Test set results\n",
    "cv_linear = cross_val_score(estimator = model_train, X = X_train_ac_df, y = Y_train, cv = 10)\n",
    "\n",
    "r2_score_train = model_train.score(X_train_ac_df,Y_train)\n",
    "#print( \"r-squared train = \",r2_score_train)\n",
    "\n",
    "#print(\"---------------------------------------------\")\n",
    "model_test   = LinearRegression().fit(X_test_ac_df,Y_test)\n",
    "r2_score_test = model_test.score(X_test_ac_df,Y_test)\n",
    "#print( \"r-squared test = \",r2_score_test)"
   ]
  },
  {
   "cell_type": "code",
   "execution_count": null,
   "metadata": {},
   "outputs": [],
   "source": []
  },
  {
   "cell_type": "code",
   "execution_count": 28,
   "metadata": {},
   "outputs": [],
   "source": [
    "y_train_predict = model_train.predict(X_train_ac_df)"
   ]
  },
  {
   "cell_type": "code",
   "execution_count": 29,
   "metadata": {},
   "outputs": [],
   "source": [
    "y_test_predict = model_test.predict(X_test_ac_df)"
   ]
  },
  {
   "cell_type": "code",
   "execution_count": 30,
   "metadata": {},
   "outputs": [],
   "source": [
    "### RMSE\n",
    "from sklearn.metrics import mean_squared_error  \n",
    "\n",
    "#mse2_train = mean_squared_error(Y_train, y_train_predict, squared=False)\n",
    "mse2_test = mean_squared_error(Y_test, y_test_predict, squared=False)"
   ]
  },
  {
   "cell_type": "code",
   "execution_count": 493,
   "metadata": {},
   "outputs": [],
   "source": [
    "#from math import sqrt\n",
    "#print(\"RMSE train regression multiple lineaire: \", sqrt(mse2_train))\n",
    "#print(\"RMSE test regression multiple lineaire: \", sqrt(mse2_test))"
   ]
  },
  {
   "cell_type": "markdown",
   "metadata": {},
   "source": [
    "## Resultats  methode d'analyse regression Lineaire multiple:"
   ]
  },
  {
   "cell_type": "code",
   "execution_count": 31,
   "metadata": {},
   "outputs": [
    {
     "name": "stdout",
     "output_type": "stream",
     "text": [
      "CV:  0.6961440876672966\n",
      "R2_score (train):  0.7535752900810012\n",
      "R2_score (test):  0.7770692410106586\n",
      "RMSE:  4.043310022678274\n"
     ]
    }
   ],
   "source": [
    "print('CV: ', cv_linear.mean())\n",
    "print('R2_score (train): ', r2_score_train)\n",
    "print('R2_score (test): ', r2_score_test)\n",
    "print(\"RMSE: \", mse2_test)"
   ]
  },
  {
   "cell_type": "markdown",
   "metadata": {},
   "source": [
    "## Regression de RIDGE"
   ]
  },
  {
   "cell_type": "code",
   "execution_count": 32,
   "metadata": {},
   "outputs": [
    {
     "data": {
      "text/plain": [
       "(102, 19)"
      ]
     },
     "execution_count": 32,
     "metadata": {},
     "output_type": "execute_result"
    }
   ],
   "source": [
    "X_train_ac_df.shape\n",
    "X_test_ac_df.shape"
   ]
  },
  {
   "cell_type": "code",
   "execution_count": 33,
   "metadata": {},
   "outputs": [
    {
     "data": {
      "text/plain": [
       "Pipeline(memory=None,\n",
       "         steps=[('scalar',\n",
       "                 StandardScaler(copy=True, with_mean=True, with_std=True)),\n",
       "                ('poly',\n",
       "                 PolynomialFeatures(degree=2, include_bias=True,\n",
       "                                    interaction_only=False, order='C')),\n",
       "                ('model',\n",
       "                 Ridge(alpha=3.8, copy_X=True, fit_intercept=True,\n",
       "                       max_iter=None, normalize=False, random_state=None,\n",
       "                       solver='auto', tol=0.001))],\n",
       "         verbose=False)"
      ]
     },
     "execution_count": 33,
     "metadata": {},
     "output_type": "execute_result"
    }
   ],
   "source": [
    "from sklearn.linear_model import Ridge\n",
    "from sklearn.preprocessing import StandardScaler\n",
    "from sklearn.pipeline import Pipeline\n",
    "from sklearn.preprocessing import PolynomialFeatures\n",
    "\n",
    "steps = [\n",
    "    ('scalar', StandardScaler()),\n",
    "    ('poly', PolynomialFeatures(degree=2)),\n",
    "    ('model', Ridge(alpha=3.8, fit_intercept=True))\n",
    "]\n",
    "\n",
    "ridge_pipe = Pipeline(steps)\n",
    "ridge_pipe.fit(X_train_ac_df, Y_train)\n"
   ]
  },
  {
   "cell_type": "code",
   "execution_count": 38,
   "metadata": {},
   "outputs": [],
   "source": [
    "from sklearn.metrics import r2_score\n",
    "\n",
    "# Predicting Cross Validation Score the Test set results\n",
    "cv_ridge = cross_val_score(estimator = ridge_pipe, X = X_train_ac, y = Y_train.ravel(), cv = 10)\n",
    "\n",
    "# Train\n",
    "y_pred_ridge_train = ridge_pipe.predict(X_train_ac_df)\n",
    "r2_score_ridge_train = r2_score(Y_train, y_pred_ridge_train)\n",
    "## Test\n",
    "y_pred_ridge_test = ridge_pipe.predict(X_test_ac_df)\n",
    "r2_score_ridge_test = r2_score(Y_test, y_pred_ridge_test)"
   ]
  },
  {
   "cell_type": "markdown",
   "metadata": {},
   "source": [
    "## Resultat  methode d'analyse regression RIDGE:"
   ]
  },
  {
   "cell_type": "code",
   "execution_count": 39,
   "metadata": {},
   "outputs": [
    {
     "name": "stdout",
     "output_type": "stream",
     "text": [
      "CV:  0.7449084832981023\n",
      "R2_score (train):  0.952215938765293\n",
      "R2_score (test):  0.7611349051043496\n",
      "RMSE:  4.185317320544237\n"
     ]
    }
   ],
   "source": [
    "# Predicting RMSE the Test set results\n",
    "rmse_ridge = (np.sqrt(mean_squared_error(Y_test, y_pred_ridge_test)))\n",
    "print('CV: ', cv_ridge.mean())\n",
    "print('R2_score (train): ', r2_score_ridge_train)\n",
    "print('R2_score (test): ', r2_score_ridge_test)\n",
    "print(\"RMSE: \", rmse_ridge)"
   ]
  },
  {
   "cell_type": "markdown",
   "metadata": {},
   "source": [
    "## La régression LASSO"
   ]
  },
  {
   "cell_type": "code",
   "execution_count": 40,
   "metadata": {},
   "outputs": [
    {
     "data": {
      "text/plain": [
       "Pipeline(memory=None,\n",
       "         steps=[('scalar',\n",
       "                 StandardScaler(copy=True, with_mean=True, with_std=True)),\n",
       "                ('poly',\n",
       "                 PolynomialFeatures(degree=2, include_bias=True,\n",
       "                                    interaction_only=False, order='C')),\n",
       "                ('model',\n",
       "                 Lasso(alpha=0.012, copy_X=True, fit_intercept=True,\n",
       "                       max_iter=3000, normalize=False, positive=False,\n",
       "                       precompute=False, random_state=None, selection='cyclic',\n",
       "                       tol=0.0001, warm_start=False))],\n",
       "         verbose=False)"
      ]
     },
     "execution_count": 40,
     "metadata": {},
     "output_type": "execute_result"
    }
   ],
   "source": [
    "from sklearn.linear_model import Lasso\n",
    "from sklearn.preprocessing import StandardScaler\n",
    "from sklearn.pipeline import Pipeline\n",
    "from sklearn.preprocessing import PolynomialFeatures\n",
    "\n",
    "steps = [\n",
    "    ('scalar', StandardScaler()),\n",
    "    ('poly', PolynomialFeatures(degree=2)),\n",
    "    ('model', Lasso(alpha=0.012, fit_intercept=True, max_iter=3000))\n",
    "]\n",
    "\n",
    "lasso_pipe = Pipeline(steps)\n",
    "lasso_pipe.fit(X_train_ac_df, Y_train)"
   ]
  },
  {
   "cell_type": "code",
   "execution_count": 41,
   "metadata": {},
   "outputs": [],
   "source": [
    "from sklearn.metrics import r2_score\n",
    "from sklearn.metrics import mean_squared_error\n",
    "from sklearn.model_selection import cross_val_score\n",
    "\n",
    "# Predicting Cross Validation Score\n",
    "cv_lasso = cross_val_score(estimator = lasso_pipe, X = X_train_ac_df, y = Y_train, cv = 10)"
   ]
  },
  {
   "cell_type": "markdown",
   "metadata": {},
   "source": [
    "## Calcul des scores:"
   ]
  },
  {
   "cell_type": "code",
   "execution_count": 42,
   "metadata": {},
   "outputs": [],
   "source": [
    "# Predicting R2 Score the Test set results\n",
    "y_pred_lasso_train = lasso_pipe.predict(X_train_ac_df)\n",
    "r2_score_lasso_train = r2_score(Y_train, y_pred_lasso_train)\n",
    "\n",
    "# Predicting R2 Score the Test set results\n",
    "y_pred_lasso_test = lasso_pipe.predict(X_test_ac_df)\n",
    "r2_score_lasso_test = r2_score(Y_test, y_pred_lasso_test)\n",
    "\n"
   ]
  },
  {
   "cell_type": "markdown",
   "metadata": {},
   "source": [
    "## Resultats methode d'analyse LASSO:\n"
   ]
  },
  {
   "cell_type": "code",
   "execution_count": 43,
   "metadata": {},
   "outputs": [
    {
     "name": "stdout",
     "output_type": "stream",
     "text": [
      "CV:  0.7944829310794027\n",
      "R2_score (train):  0.951323376169458\n",
      "R2_score (test):  0.7639796236275793\n",
      "RMSE:  4.160320552831585\n"
     ]
    }
   ],
   "source": [
    "# Predicting RMSE the Test set results\n",
    "rmse_lasso = (np.sqrt(mean_squared_error(Y_test, y_pred_lasso_test)))\n",
    "print('CV: ', cv_lasso.mean())\n",
    "print('R2_score (train): ', r2_score_lasso_train)\n",
    "print('R2_score (test): ', r2_score_lasso_test)\n",
    "print(\"RMSE: \", rmse_lasso)"
   ]
  },
  {
   "cell_type": "code",
   "execution_count": null,
   "metadata": {},
   "outputs": [],
   "source": []
  },
  {
   "cell_type": "markdown",
   "metadata": {},
   "source": [
    "# Comparaison des differentes methodes:\n"
   ]
  },
  {
   "cell_type": "code",
   "execution_count": 44,
   "metadata": {},
   "outputs": [
    {
     "name": "stdout",
     "output_type": "stream",
     "text": [
      "Methode de sélection de variable pas-à-pas descendante:\n",
      "R2_score (train):  0.748306611988744\n",
      "R2_score (test):  0.7150364348705118\n",
      "RMSE:  4.571373567517585\n",
      "--------------------------------------------\n",
      "Methode Regression Lineaire: \n",
      "CV:  0.6961440876672966\n",
      "R2_score (train):  0.7535752900810012\n",
      "R2_score (test):  0.7770692410106586\n",
      "RMSE:  4.043310022678274\n",
      "--------------------------------------------\n",
      "Methode Regression de RIDGE: \n",
      "CV:  0.7449084832981023\n",
      "R2_score (train):  0.952215938765293\n",
      "R2_score (test):  0.7611349051043496\n",
      "RMSE:  4.185317320544237\n",
      "--------------------------------------------\n",
      "Methode Lasso: \n",
      "CV:  0.7944829310794027\n",
      "R2_score (train):  0.951323376169458\n",
      "R2_score (test):  0.7639796236275793\n",
      "RMSE:  4.160320552831585\n"
     ]
    }
   ],
   "source": [
    "print(\"Methode de sélection de variable pas-à-pas descendante:\")\n",
    "print('R2_score (train): ', res_train.rsquared)\n",
    "print('R2_score (test): ', res_test.rsquared)\n",
    "print(\"RMSE: \", mse_test)\n",
    "print('--------------------------------------------')\n",
    "print(\"Methode Regression Lineaire: \")\n",
    "print('CV: ', cv_linear.mean())\n",
    "print('R2_score (train): ', r2_score_train)\n",
    "print('R2_score (test): ', r2_score_test)\n",
    "print(\"RMSE: \", mse2_test)\n",
    "print('--------------------------------------------')\n",
    "print(\"Methode Regression de RIDGE: \")\n",
    "print('CV: ', cv_ridge.mean())\n",
    "print('R2_score (train): ', r2_score_ridge_train)\n",
    "print('R2_score (test): ', r2_score_ridge_test)\n",
    "print(\"RMSE: \", rmse_ridge)\n",
    "print('--------------------------------------------')\n",
    "print(\"Methode Lasso: \")\n",
    "print('CV: ', cv_lasso.mean())\n",
    "print('R2_score (train): ', r2_score_lasso_train)\n",
    "print('R2_score (test): ', r2_score_lasso_test)\n",
    "print(\"RMSE: \", rmse_lasso)"
   ]
  },
  {
   "cell_type": "markdown",
   "metadata": {},
   "source": [
    "# Conclusion:   \n",
    "Les methode de RIDGE et du LASSO semblent etre beaucoup plus performant que les deux autres methodes.\n"
   ]
  },
  {
   "cell_type": "markdown",
   "metadata": {},
   "source": [
    "# FIN du Projet de Machine Learning"
   ]
  },
  {
   "cell_type": "code",
   "execution_count": null,
   "metadata": {},
   "outputs": [],
   "source": []
  }
 ],
 "metadata": {
  "kernelspec": {
   "display_name": "Python 3",
   "language": "python",
   "name": "python3"
  },
  "language_info": {
   "codemirror_mode": {
    "name": "ipython",
    "version": 3
   },
   "file_extension": ".py",
   "mimetype": "text/x-python",
   "name": "python",
   "nbconvert_exporter": "python",
   "pygments_lexer": "ipython3",
   "version": "3.7.6"
  }
 },
 "nbformat": 4,
 "nbformat_minor": 4
}
